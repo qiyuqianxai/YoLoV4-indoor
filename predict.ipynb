{
 "cells": [
  {
   "cell_type": "code",
   "execution_count": 1,
   "metadata": {},
   "outputs": [],
   "source": [
    "import cv2\n",
    "import time\n",
    "import numpy as np\n",
    "from yolo import YOLO\n",
    "from PIL import Image"
   ]
  },
  {
   "cell_type": "code",
   "execution_count": 5,
   "metadata": {},
   "outputs": [],
   "source": [
    "#-------------------------------------#\n",
    "#       对单张图片进行预测\n",
    "#-------------------------------------#\n",
    "def detect_image(image_path):\n",
    "    print('Start detect!')\n",
    "    yolo = YOLO()\n",
    "    try:\n",
    "        image = Image.open(image_path)\n",
    "    except:\n",
    "        print('Open Error! Try again!')\n",
    "        pass\n",
    "    else:\n",
    "        r_image = yolo.detect_image(image)\n",
    "        r_image.show()\n",
    "        # r_image.save(image_path.split('.')[0] + '_result.png')\n",
    "    print('Finish detect!')"
   ]
  },
  {
   "cell_type": "code",
   "execution_count": 6,
   "metadata": {
    "pycharm": {
     "name": "#%%\n"
    }
   },
   "outputs": [
    {
     "name": "stdout",
     "output_type": "stream",
     "text": [
      "Start detect!\n",
      "Loading pretrained weights.\n",
      "Finish loading!\n",
      "model_data/yolov4_maskdetect_weights1.pth model, anchors, and classes loaded.\n",
      "(5, 4)\n",
      "b'mask: 0.95'\n",
      "b'mask: 0.84'\n",
      "b'mask: 0.88'\n",
      "b'mask: 0.80'\n",
      "b'nomask: 0.96'\n",
      "Finish detect!\n"
     ]
    }
   ],
   "source": [
    "detect_image('test/image/door_000.jpg')\n",
    "detect_image('test/image/knife_000.jpg')\n",
    "detect_image('test/image/phone_000.jpg')\n",
    "detect_image('test/image/scissor_000.jpg')\n",
    "\n",
    "\n"
   ]
  }
 ],
 "metadata": {
  "kernelspec": {
   "display_name": "Python 3",
   "language": "python",
   "name": "python3"
  },
  "language_info": {
   "codemirror_mode": {
    "name": "ipython",
    "version": 3
   },
   "file_extension": ".py",
   "mimetype": "text/x-python",
   "name": "python",
   "nbconvert_exporter": "python",
   "pygments_lexer": "ipython3",
   "version": "3.7.8"
  }
 },
 "nbformat": 4,
 "nbformat_minor": 4
}